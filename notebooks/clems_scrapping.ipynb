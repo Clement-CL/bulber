{
 "cells": [
  {
   "cell_type": "markdown",
   "metadata": {},
   "source": [
    "$$Clem's notebook for analysis$$"
   ]
  },
  {
   "cell_type": "code",
   "execution_count": 1,
   "metadata": {},
   "outputs": [],
   "source": [
    "import requests\n",
    "from bs4 import BeautifulSoup\n",
    "# import chromedriver_binary\n",
    "from selenium import webdriver\n",
    "import csv\n",
    "import time\n",
    "from selenium.webdriver.common.keys import Keys\n",
    "from selenium.webdriver.support.ui import WebDriverWait\n",
    "from selenium.webdriver.support import expected_conditions as ec\n",
    "from selenium.webdriver.common.by import By\n",
    "# new chromdriver version\n",
    "from chromedriver_py import binary_path # this will get you the path variable"
   ]
  },
  {
   "cell_type": "code",
   "execution_count": null,
   "metadata": {},
   "outputs": [],
   "source": [
    "# browser.execute_script(\"window.scrollTo(0,document.body.scrollHeight)\")\n",
    "# browser.close()\n",
    "# document.body.scrollHeigh"
   ]
  },
  {
   "cell_type": "markdown",
   "metadata": {
    "heading_collapsed": true
   },
   "source": [
    "## Extract url for each species\n",
    "\n",
    "### Step 1 - scroll n times (or all the way down using 'while true'"
   ]
  },
  {
   "cell_type": "code",
   "execution_count": null,
   "metadata": {
    "hidden": true,
    "scrolled": true
   },
   "outputs": [],
   "source": [
    "# SCROLL_PAUSE_TIME = 0.5\n",
    "\n",
    "# browser = webdriver.Chrome()\n",
    "# browser.get(\"https://identify.plantnet.org/explo/weurope/\")\n",
    "\n",
    "# for n in range(5):\n",
    "\n",
    "#     # Get scroll height\n",
    "#     ### This is the difference. Moving this *inside* the loop\n",
    "#     ### means that it checks if scrollTo is still scrolling \n",
    "#     last_height = browser.execute_script(\"return document.body.scrollHeight\")\n",
    "\n",
    "#     # Scroll down to bottom\n",
    "#     browser.execute_script(\"window.scrollTo(0, document.body.scrollHeight);\")\n",
    "\n",
    "#     # Wait to load page\n",
    "#     time.sleep(SCROLL_PAUSE_TIME)\n",
    "\n",
    "#     # Calculate new scroll height and compare with last scroll height\n",
    "#     new_height = browser.execute_script(\"return document.body.scrollHeight\")\n",
    "#     if new_height == last_height:\n",
    "\n",
    "#         # try again (can be removed)\n",
    "#         browser.execute_script(\"window.scrollTo(0, document.body.scrollHeight);\")\n",
    "\n",
    "#         # Wait to load page\n",
    "#         time.sleep(SCROLL_PAUSE_TIME)\n",
    "\n",
    "#         # Calculate new scroll height and compare with last scroll height\n",
    "#         new_height = browser.execute_script(\"return document.body.scrollHeight\")\n",
    "\n",
    "#         # check if the page height has remained the same\n",
    "#         if new_height == last_height:\n",
    "#             # if so, you are done\n",
    "#             break\n",
    "#         # if not, move on to the next loop\n",
    "#         else:\n",
    "#             last_height = new_height\n",
    "#             continue\n"
   ]
  },
  {
   "cell_type": "code",
   "execution_count": null,
   "metadata": {
    "hidden": true
   },
   "outputs": [],
   "source": [
    "# # Extract all rows\n",
    "# rows = browser.find_elements_by_xpath(\"//div[@class='row']\")\n",
    "\n",
    "# plants = []\n",
    "\n",
    "# for row in rows:    \n",
    "#     plant = {}\n",
    "#     heading1 = browser.find_element_by_tag_name('h6')\n",
    "#     heading2 = browser.find_element_by_xpath(\"//h6[@class='colored ng-binding']\")\n",
    "#     heading3 = browser.find_element_by_xpath(\"//em[@class='family-name ng-binding']\")\n",
    "#     a = heading1.find_element_by_tag_name('a')\n",
    "#     plant['url'] = a.get_attribute('href')\n",
    "#     plant['species_name'] = heading1.text\n",
    "#     plant['common_name'] = heading2.text\n",
    "#     plant['family'] = heading3.text\n",
    "#     plants.append(plant)\n",
    "\n",
    "# plants[0]"
   ]
  },
  {
   "cell_type": "markdown",
   "metadata": {
    "hidden": true
   },
   "source": [
    "### Step 2 - open each image and copy the large image URL"
   ]
  },
  {
   "cell_type": "code",
   "execution_count": null,
   "metadata": {
    "hidden": true
   },
   "outputs": [],
   "source": [
    "# images = browser.find_elements_by_xpath('//a[@ng-click=\"openLightboxModal($index)\"]')\n",
    "\n",
    "# wait = WebDriverWait(browser, 15)\n",
    "\n",
    "# links = []\n",
    "# for image in images[:4]:\n",
    "#     time.sleep(2)\n",
    "#     image.click()\n",
    "#     wait.until(ec.visibility_of_element_located((By.XPATH, \"//div[@class='lightbox-image-container']\")))\n",
    "#     lightbox = browser.find_element_by_class_name('lightbox-image-container')\n",
    "#     image_link = lightbox.find_element_by_tag_name('img').get_attribute('src')\n",
    "#     links.append(image_link)\n",
    "#     webdriver.ActionChains(browser).send_keys(Keys.ESCAPE).perform()\n",
    "#     time.sleep(2)"
   ]
  },
  {
   "cell_type": "markdown",
   "metadata": {
    "heading_collapsed": true
   },
   "source": [
    "## OLD site [do not use] Quick approach - manually selecting species and extracting small images"
   ]
  },
  {
   "cell_type": "code",
   "execution_count": null,
   "metadata": {
    "hidden": true
   },
   "outputs": [],
   "source": [
    "selected_species = ['https://identify.plantnet.org/species/weurope/Acanthus%20mollis%20L.',\n",
    "'https://identify.plantnet.org/species/weurope/Carpobrotus%20edulis%20(L.)%20N.E.Br.',\n",
    "'https://identify.plantnet.org/species/weurope/Alisma%20plantago-aquatica%20L.',\n",
    "'https://identify.plantnet.org/species/weurope/Begonia%20evansiana%20Andrews', \n",
    "'https://identify.plantnet.org/species/weurope/Cistus%20albidus%20L.', \n",
    "'https://identify.plantnet.org/species/weurope/Bryonia%20cretica%20L.', \n",
    "'https://identify.plantnet.org/species/weurope/Drosera%20rotundifolia%20L.',\n",
    "'https://identify.plantnet.org/species/weurope/Arbutus%20unedo%20L.',\n",
    "'https://identify.plantnet.org/species/weurope/Castanea%20sativa%20Mill.',\n",
    "'https://identify.plantnet.org/species/weurope/Centaurium%20erythraea%20Rafn',\n",
    "'https://identify.plantnet.org/species/weurope/Gunnera%20tinctoria%20(Molina)%20Mirb.',\n",
    "'https://identify.plantnet.org/species/weurope/Deutzia%20scabra%20Thunb.',\n",
    "'https://identify.plantnet.org/species/weurope/Hypericum%20androsaemum%20L.',\n",
    "'https://identify.plantnet.org/species/weurope/Crocosmia%20x%20crocosmiiflora%20(Lemoine)%20N.E.Br.',\n",
    "'https://identify.plantnet.org/species/weurope/Lilium%20bulbiferum%20L.',\n",
    "'https://identify.plantnet.org/species/weurope/Lagerstroemia%20indica%20L.',\n",
    "'https://identify.plantnet.org/species/weurope/Magnolia%20grandiflora%20L.',\n",
    "'https://identify.plantnet.org/species/weurope/Eucalyptus%20globulus%20Labill.',\n",
    "'https://identify.plantnet.org/species/weurope/Nelumbo%20nucifera%20Gaertn.',\n",
    "'https://identify.plantnet.org/species/weurope/Bougainvillea%20spectabilis%20Willd.',\n",
    "'https://identify.plantnet.org/species/weurope/Nymphaea%20alba%20L.',\n",
    "'https://identify.plantnet.org/species/weurope/Anacamptis%20pyramidalis%20(L.)%20Rich.',\n",
    "'https://identify.plantnet.org/species/weurope/Antirrhinum%20majus%20L.',\n",
    "'https://identify.plantnet.org/species/weurope/Argentina%20anserina%20(L.)%20Rydb.',\n",
    "'https://identify.plantnet.org/species/weurope/Brugmansia%20suaveolens%20(Humb.%20&%20Bonpl.%20ex%20Willd.)%20Bercht.%20&%20J.Presl',\n",
    "'https://identify.plantnet.org/species/weurope/Athyrium%20filix-femina%20(L.)%20Roth']"
   ]
  },
  {
   "cell_type": "code",
   "execution_count": null,
   "metadata": {
    "hidden": true
   },
   "outputs": [],
   "source": [
    "full_image_list_2 = []\n",
    "page = 1"
   ]
  },
  {
   "cell_type": "code",
   "execution_count": null,
   "metadata": {
    "hidden": true
   },
   "outputs": [],
   "source": [
    "for selected in selected_species:\n",
    "    \n",
    "    # open the page \n",
    "    browser = webdriver.Chrome(executable_path=binary_path)\n",
    "    browser.get(selected)\n",
    "\n",
    "    # wait for element to appear\n",
    "    wait = WebDriverWait(browser, 60)\n",
    "    wait.until(ec.visibility_of_element_located((By.CLASS_NAME, \"table-condensed\")))\n",
    "\n",
    "    # find the section with the plant info\n",
    "    plant_info_node = browser.find_element_by_class_name(\"card-body\")\n",
    "    a = plant_info_node.find_element_by_tag_name('td a')\n",
    "    b = a.find_elements_by_xpath('//i[@class=\"ng-binding\"]')\n",
    "\n",
    "    image_angle = ['flower', 'habit', 'leaf', 'other']\n",
    "\n",
    "    for angle in image_angle:   \n",
    "        # select the angel of image\n",
    "        wait.until(ec.visibility_of_element_located((By.XPATH, f'//img src=\"/images/organ/leaf{angle}.png\"]')))\n",
    "        icone = browser.find_element_by_xpath(f'//img[@ng-src=\"app/webimgs/tags/{angle}.png\"]')\n",
    "        icone.click() \n",
    "        # select the images in the gallery\n",
    "        gallery = browser.find_element_by_class_name('gallery')\n",
    "        small_images = gallery.find_elements_by_tag_name('img')\n",
    "        image_count = 1\n",
    "        # loop over images to extract all plant info and url with 'src'\n",
    "        for small_image in small_images:\n",
    "            plant = {}\n",
    "            plant['family'] = b[0].text\n",
    "            plant['genus'] = b[1].text\n",
    "            plant['species'] = b[2].text\n",
    "            plant['angle'] = angle\n",
    "            plant['image_url'] = small_image.get_attribute('src')\n",
    "            plant['image_title'] = f'{b[2].text}_{angle}_img_{image_count}'\n",
    "            full_image_list_2.append(plant)\n",
    "            image_count += 1\n",
    "    browser.quit()\n",
    "    print(page)\n",
    "    page += 1\n",
    "    "
   ]
  },
  {
   "cell_type": "markdown",
   "metadata": {},
   "source": [
    "## New site - Quick approach - manually selecting species and extracting small images"
   ]
  },
  {
   "cell_type": "code",
   "execution_count": 2,
   "metadata": {},
   "outputs": [],
   "source": [
    "selected = 'https://identify.plantnet.org/species/weurope/Gunnera%20tinctoria%20(Molina)%20Mirb.'\n",
    "\n",
    "browser = webdriver.Chrome(executable_path=binary_path)\n",
    "browser.get(selected)\n",
    "\n",
    "# wait for element to appear\n",
    "wait = WebDriverWait(browser, 60)\n",
    "wait.until(ec.visibility_of_element_located((By.CLASS_NAME, \"card-body\")))\n",
    "\n",
    "# find the section with the plant info\n",
    "plant_info_node = browser.find_element_by_class_name(\"card-body\")\n",
    "\n",
    "family = plant_info_node.find_element_by_tag_name('h5').text\n",
    "genus = plant_info_node.find_element_by_tag_name('h6').text\n",
    "species = plant_info_node.find_element_by_xpath('//*[@id=\"__layout\"]/div/main/div/div[2]/div[1]/div/div[2]/dl/dd[3]').text\n",
    "\n",
    "# select the angel of image\n",
    "angle = 2\n",
    "\n",
    "wait.until(ec.visibility_of_element_located((By.XPATH, f'//*[@id=\"__layout\"]/div/main/div/div[3]/div/nav/ul/li[{angle}]')))\n",
    "icone = browser.find_element_by_xpath(f'//*[@id=\"__layout\"]/div/main/div/div[3]/div/nav/ul/li[{angle}]')\n",
    "icone.click()\n",
    "\n",
    "# select the images in the gallery\n",
    "for n in range(30):\n",
    "    time.sleep(0.5)\n",
    "    browser.execute_script(\"window.scrollBy(0,300)\")\n",
    "image_boxs = browser.find_elements_by_class_name(\"row\")\n",
    "images = image_boxs[3].find_elements_by_tag_name('img')"
   ]
  },
  {
   "cell_type": "code",
   "execution_count": 3,
   "metadata": {
    "scrolled": true
   },
   "outputs": [
    {
     "data": {
      "text/plain": [
       "('Gunneraceae', 'Gunnera L.', 'Gunnera tinctoria (Molina) Mirb.')"
      ]
     },
     "execution_count": 3,
     "metadata": {},
     "output_type": "execute_result"
    }
   ],
   "source": [
    "family, genus, species"
   ]
  },
  {
   "cell_type": "code",
   "execution_count": 7,
   "metadata": {},
   "outputs": [
    {
     "data": {
      "text/plain": [
       "'https://bs.plantnet.org/image/s/da109dd9e6f451930c6e50c257572e67423676bd'"
      ]
     },
     "execution_count": 7,
     "metadata": {},
     "output_type": "execute_result"
    }
   ],
   "source": [
    "images[0].get_attribute('src')"
   ]
  },
  {
   "cell_type": "code",
   "execution_count": null,
   "metadata": {},
   "outputs": [],
   "source": [
    "test = 0"
   ]
  },
  {
   "cell_type": "code",
   "execution_count": null,
   "metadata": {},
   "outputs": [],
   "source": [
    "import pandas as pd\n",
    "image_dataframe_v2 = pd.DataFrame(full_image_list_2)"
   ]
  },
  {
   "cell_type": "code",
   "execution_count": null,
   "metadata": {},
   "outputs": [],
   "source": [
    "len(image_dataframe_v2.image_title.unique())"
   ]
  },
  {
   "cell_type": "code",
   "execution_count": null,
   "metadata": {},
   "outputs": [],
   "source": [
    "image_dataframe_v2.to_csv('~/code/Clement-CL/bumbulb/data/bumbulb_v2.csv', index=False)"
   ]
  },
  {
   "cell_type": "code",
   "execution_count": null,
   "metadata": {},
   "outputs": [],
   "source": [
    "image_dataframe_v2.head()"
   ]
  },
  {
   "cell_type": "code",
   "execution_count": null,
   "metadata": {},
   "outputs": [],
   "source": [
    "# full_list_for_csv = full_image_list"
   ]
  },
  {
   "cell_type": "code",
   "execution_count": null,
   "metadata": {},
   "outputs": [],
   "source": [
    "# len(image_list_0to9)"
   ]
  },
  {
   "cell_type": "code",
   "execution_count": null,
   "metadata": {},
   "outputs": [],
   "source": [
    "# full_list_for_csv[0].items()"
   ]
  },
  {
   "cell_type": "code",
   "execution_count": null,
   "metadata": {},
   "outputs": [],
   "source": [
    "# ignore\n",
    "\n",
    "\n",
    "# transfer key/value, image/url into two different values in a dictionary\n",
    "\n",
    "# image_title_list = []\n",
    "\n",
    "# for list_dict in full_list_for_csv:\n",
    "#     for item in list_dict.items():\n",
    "#         if '_img_' in item[0]:\n",
    "#             image_only = {}\n",
    "#             image_only['image_title'] = item[0]\n",
    "#             image_only['image_url'] = item[1]\n",
    "#             image_title_list.append(image_only)"
   ]
  },
  {
   "cell_type": "code",
   "execution_count": null,
   "metadata": {},
   "outputs": [],
   "source": [
    "import pandas as pd\n"
   ]
  },
  {
   "cell_type": "code",
   "execution_count": null,
   "metadata": {},
   "outputs": [],
   "source": [
    "bumbulb_url_df = image_dataframe_v2.drop_duplicates()"
   ]
  },
  {
   "cell_type": "code",
   "execution_count": null,
   "metadata": {},
   "outputs": [],
   "source": [
    "bumbulb_url_df.to_csv('~/code/Clement-CL/bumbulb/data/bumbulb.csv', index=False)"
   ]
  },
  {
   "cell_type": "code",
   "execution_count": null,
   "metadata": {},
   "outputs": [],
   "source": [
    "bumbulb_csv = pd.read_csv('~/code/Clement-CL/bumbulb/data/bumbulb_img_v2.csv')"
   ]
  },
  {
   "cell_type": "code",
   "execution_count": null,
   "metadata": {},
   "outputs": [],
   "source": [
    "image_url_df = bumbulb_csv['image_url'][0]"
   ]
  },
  {
   "cell_type": "code",
   "execution_count": null,
   "metadata": {},
   "outputs": [],
   "source": [
    "print(image_url)"
   ]
  },
  {
   "cell_type": "code",
   "execution_count": null,
   "metadata": {},
   "outputs": [],
   "source": [
    "import wget"
   ]
  },
  {
   "cell_type": "code",
   "execution_count": null,
   "metadata": {},
   "outputs": [],
   "source": [
    "bumbulb_csv"
   ]
  },
  {
   "cell_type": "code",
   "execution_count": null,
   "metadata": {},
   "outputs": [],
   "source": [
    "for index, row in bumbulb_csv.iterrows():\n",
    "    try:\n",
    "        wget.download(row['image_url'], out = f\"{row['image_title']}.jpg\")\n",
    "    except:\n",
    "        continue"
   ]
  },
  {
   "cell_type": "code",
   "execution_count": null,
   "metadata": {},
   "outputs": [],
   "source": [
    "local_image_filename"
   ]
  },
  {
   "cell_type": "code",
   "execution_count": null,
   "metadata": {},
   "outputs": [],
   "source": []
  }
 ],
 "metadata": {
  "kernelspec": {
   "display_name": "Python 3",
   "language": "python",
   "name": "python3"
  },
  "language_info": {
   "codemirror_mode": {
    "name": "ipython",
    "version": 3
   },
   "file_extension": ".py",
   "mimetype": "text/x-python",
   "name": "python",
   "nbconvert_exporter": "python",
   "pygments_lexer": "ipython3",
   "version": "3.7.7"
  },
  "toc": {
   "base_numbering": 1,
   "nav_menu": {},
   "number_sections": true,
   "sideBar": true,
   "skip_h1_title": false,
   "title_cell": "Table of Contents",
   "title_sidebar": "Contents",
   "toc_cell": false,
   "toc_position": {},
   "toc_section_display": true,
   "toc_window_display": false
  }
 },
 "nbformat": 4,
 "nbformat_minor": 4
}
